{
 "cells": [
  {
   "cell_type": "markdown",
   "metadata": {},
   "source": [
    "[DIY Covid-19 Dashboard Kit](https://github.com/fsmeraldi/diy-covid19dash) (C) Fabrizio Smeraldi, 2020 ([f.smeraldi@qmul.ac.uk](mailto:f.smeraldi@qmul.ac.uk) - [web](http://www.eecs.qmul.ac.uk/~fabri/)). All rights reserved."
   ]
  },
  {
   "cell_type": "markdown",
   "metadata": {},
   "source": [
    "# DIY Covid-19 Dashboard"
   ]
  },
  {
   "cell_type": "code",
   "execution_count": 87,
   "metadata": {},
   "outputs": [],
   "source": [
    "import ipywidgets as wdg\n",
    "import pandas as pd\n",
    "import numpy as np\n",
    "import matplotlib.pyplot as plt\n",
    "import json\n",
    "\n",
    "from uk_covid19 import Cov19API\n",
    "\n",
    "from datetime import date\n",
    "from datetime import datetime"
   ]
  },
  {
   "cell_type": "code",
   "execution_count": 80,
   "metadata": {},
   "outputs": [],
   "source": [
    "%matplotlib inline\n",
    "# make figures larger\n",
    "plt.rcParams['figure.dpi'] = 100"
   ]
  },
  {
   "cell_type": "markdown",
   "metadata": {},
   "source": [
    "## Load initial data from disk\n"
   ]
  },
  {
   "cell_type": "code",
   "execution_count": 82,
   "metadata": {},
   "outputs": [],
   "source": [
    "# Load JSON files and store the raw data in some variable. Edit as appropriate:\n",
    "\n",
    "# Comparing different testing levels (incl. total) in UK:\n",
    "\n",
    "filters = [\n",
    "    'areaType=overview',\n",
    "]\n",
    "\n",
    "structure = {\n",
    "    \"date\": \"date\",\n",
    "    \"PillarOneTesting\":\"cumPillarOneTestsByPublishDate\",\n",
    "    \"PillarTwoTesting\":\"cumPillarTwoTestsByPublishDate\",\n",
    "    \"PillarThreeTesting\":\"cumPillarThreeTestsByPublishDate\",\n",
    "    \"PillarFourTesting\":\"cumPillarFourTestsByPublishDate\",\n",
    "    \"Total\":\"cumTestsByPublishDate\"\n",
    "}\n",
    "\n",
    "api = Cov19API(filters=filters, structure=structure)\n",
    "\n",
    "jsondata=api.get_json()\n",
    "\n",
    "with open(\"testingseries.json\", \"wt\") as OUTF:\n",
    "    json.dump(jsondata, OUTF)\n",
    "    "
   ]
  },
  {
   "cell_type": "markdown",
   "metadata": {},
   "source": [
    "## Wrangle the data\n"
   ]
  },
  {
   "cell_type": "code",
   "execution_count": 83,
   "metadata": {},
   "outputs": [
    {
     "data": {
      "text/html": [
       "<div>\n",
       "<style scoped>\n",
       "    .dataframe tbody tr th:only-of-type {\n",
       "        vertical-align: middle;\n",
       "    }\n",
       "\n",
       "    .dataframe tbody tr th {\n",
       "        vertical-align: top;\n",
       "    }\n",
       "\n",
       "    .dataframe thead th {\n",
       "        text-align: right;\n",
       "    }\n",
       "</style>\n",
       "<table border=\"1\" class=\"dataframe\">\n",
       "  <thead>\n",
       "    <tr style=\"text-align: right;\">\n",
       "      <th></th>\n",
       "      <th>PillarOneTesting</th>\n",
       "      <th>PillarTwoTesting</th>\n",
       "      <th>PillarThreeTesting</th>\n",
       "      <th>PillarFourTesting</th>\n",
       "      <th>Total</th>\n",
       "    </tr>\n",
       "  </thead>\n",
       "  <tbody>\n",
       "    <tr>\n",
       "      <th>2020-03-31</th>\n",
       "      <td>153588.0</td>\n",
       "      <td>1586.0</td>\n",
       "      <td>0.0</td>\n",
       "      <td>0.0</td>\n",
       "      <td>155174.0</td>\n",
       "    </tr>\n",
       "    <tr>\n",
       "      <th>2020-04-01</th>\n",
       "      <td>164844.0</td>\n",
       "      <td>2254.0</td>\n",
       "      <td>0.0</td>\n",
       "      <td>139.0</td>\n",
       "      <td>167237.0</td>\n",
       "    </tr>\n",
       "    <tr>\n",
       "      <th>2020-04-02</th>\n",
       "      <td>179190.0</td>\n",
       "      <td>2857.0</td>\n",
       "      <td>0.0</td>\n",
       "      <td>305.0</td>\n",
       "      <td>182352.0</td>\n",
       "    </tr>\n",
       "    <tr>\n",
       "      <th>2020-04-03</th>\n",
       "      <td>219403.0</td>\n",
       "      <td>3534.0</td>\n",
       "      <td>0.0</td>\n",
       "      <td>641.0</td>\n",
       "      <td>223578.0</td>\n",
       "    </tr>\n",
       "    <tr>\n",
       "      <th>2020-04-04</th>\n",
       "      <td>234506.0</td>\n",
       "      <td>4330.0</td>\n",
       "      <td>0.0</td>\n",
       "      <td>822.0</td>\n",
       "      <td>239658.0</td>\n",
       "    </tr>\n",
       "    <tr>\n",
       "      <th>...</th>\n",
       "      <td>...</td>\n",
       "      <td>...</td>\n",
       "      <td>...</td>\n",
       "      <td>...</td>\n",
       "      <td>...</td>\n",
       "    </tr>\n",
       "    <tr>\n",
       "      <th>2020-11-19</th>\n",
       "      <td>11656202.0</td>\n",
       "      <td>23255669.0</td>\n",
       "      <td>1833205.0</td>\n",
       "      <td>3521107.0</td>\n",
       "      <td>40266183.0</td>\n",
       "    </tr>\n",
       "    <tr>\n",
       "      <th>2020-11-20</th>\n",
       "      <td>11736070.0</td>\n",
       "      <td>23530373.0</td>\n",
       "      <td>1836157.0</td>\n",
       "      <td>3559545.0</td>\n",
       "      <td>40662145.0</td>\n",
       "    </tr>\n",
       "    <tr>\n",
       "      <th>2020-11-21</th>\n",
       "      <td>11815788.0</td>\n",
       "      <td>23780874.0</td>\n",
       "      <td>1837835.0</td>\n",
       "      <td>3598405.0</td>\n",
       "      <td>41032902.0</td>\n",
       "    </tr>\n",
       "    <tr>\n",
       "      <th>2020-11-22</th>\n",
       "      <td>11880462.0</td>\n",
       "      <td>23953113.0</td>\n",
       "      <td>1838375.0</td>\n",
       "      <td>3644864.0</td>\n",
       "      <td>41316814.0</td>\n",
       "    </tr>\n",
       "    <tr>\n",
       "      <th>2020-11-23</th>\n",
       "      <td>11950359.0</td>\n",
       "      <td>24070442.0</td>\n",
       "      <td>1840762.0</td>\n",
       "      <td>3672080.0</td>\n",
       "      <td>41533643.0</td>\n",
       "    </tr>\n",
       "  </tbody>\n",
       "</table>\n",
       "<p>238 rows × 5 columns</p>\n",
       "</div>"
      ],
      "text/plain": [
       "            PillarOneTesting  PillarTwoTesting  PillarThreeTesting  \\\n",
       "2020-03-31          153588.0            1586.0                 0.0   \n",
       "2020-04-01          164844.0            2254.0                 0.0   \n",
       "2020-04-02          179190.0            2857.0                 0.0   \n",
       "2020-04-03          219403.0            3534.0                 0.0   \n",
       "2020-04-04          234506.0            4330.0                 0.0   \n",
       "...                      ...               ...                 ...   \n",
       "2020-11-19        11656202.0        23255669.0           1833205.0   \n",
       "2020-11-20        11736070.0        23530373.0           1836157.0   \n",
       "2020-11-21        11815788.0        23780874.0           1837835.0   \n",
       "2020-11-22        11880462.0        23953113.0           1838375.0   \n",
       "2020-11-23        11950359.0        24070442.0           1840762.0   \n",
       "\n",
       "            PillarFourTesting       Total  \n",
       "2020-03-31                0.0    155174.0  \n",
       "2020-04-01              139.0    167237.0  \n",
       "2020-04-02              305.0    182352.0  \n",
       "2020-04-03              641.0    223578.0  \n",
       "2020-04-04              822.0    239658.0  \n",
       "...                       ...         ...  \n",
       "2020-11-19          3521107.0  40266183.0  \n",
       "2020-11-20          3559545.0  40662145.0  \n",
       "2020-11-21          3598405.0  41032902.0  \n",
       "2020-11-22          3644864.0  41316814.0  \n",
       "2020-11-23          3672080.0  41533643.0  \n",
       "\n",
       "[238 rows x 5 columns]"
      ]
     },
     "execution_count": 83,
     "metadata": {},
     "output_type": "execute_result"
    }
   ],
   "source": [
    "def parse_date(datestring):\n",
    "    \"\"\" Convert a date string into a pandas datetime object \"\"\"\n",
    "    return pd.to_datetime(datestring, format=\"%Y-%m-%d\")\n",
    "\n",
    "def wrangle_data(jsondata):\n",
    "    \"\"\" Parameters: rawdata - data from json file or API call. Returns a dataframe.\n",
    "    Edit to include the code that wrangles the data, creates the dataframe and fills it in. \"\"\"\n",
    "    \n",
    "    # Actual data is stored as a list of dictionaries under the data key, retrieveing it:\n",
    "    datalist=jsondata['data']\n",
    "    # Extracting all the dates and sorting them. \n",
    "    dates=[dictionary['date'] for dictionary in datalist]\n",
    "    # With dates written year-first, alphabetical ordering does the trick:\n",
    "    dates.sort()\n",
    "    \n",
    "    # Finding the earliest and latest date and converting them to the pandas type for representing dates:\n",
    "    startdate=parse_date(dates[0])\n",
    "    enddate=parse_date(dates[-1])\n",
    "    \n",
    "    # Creating an index as a date_range - the date analog of a range for integers, and it will include any dates that may be missing from our list:\n",
    "    index=pd.date_range(startdate, enddate, freq='D') # 'D' - for day\n",
    "    # Defining the DateFrame object by specifying its index and the title of its columns:\n",
    "    df=pd.DataFrame(index=index, columns=['PillarOneTesting', 'PillarTwoTesting', 'PillarThreeTesting', 'PillarFourTesting', 'Total']) # Constructor \n",
    "    \n",
    "    # Filling the DataFrame with our data:\n",
    "    for entry in datalist: # Each entry is a dictionary with date, cases, hospital and deaths\n",
    "        date=parse_date(entry['date'])\n",
    "        for column in ['PillarOneTesting', 'PillarTwoTesting', 'PillarThreeTesting', 'PillarFourTesting', 'Total']:\n",
    "        # Check that nothing is there yet - just in case some dates are duplicated, \n",
    "        # maybe with data for different columns in each entry:\n",
    "            if pd.isna(df.loc[date, column]): \n",
    "                # To detect missing values; isna = is None. \n",
    "                # Replacing None with 0 in our data:\n",
    "                value=float(entry[column]) if entry[column]!=None else 0.0\n",
    "                # Accessing a specific location in the dataframe - using df.loc\n",
    "                # and inputting - index, column - in a single set of [ ]:\n",
    "                df.loc[date, column]=value\n",
    "            \n",
    "    # Filling in any remaining \"holes\" due to missing dates:\n",
    "    df.fillna(0.0, inplace=True)\n",
    "    \n",
    "    return df\n",
    "\n",
    "# Putting the wrangling code into a function allows you to call it again after refreshing the data through \n",
    "# the API. You should call the function directly on the JSON data when the dashboard starts, by including \n",
    "# the call in the cell as below:\n",
    "testingseriesdf=wrangle_data(jsondata) # ...df is the dataframe for plotting.\n",
    "\n",
    "testingseriesdf\n"
   ]
  },
  {
   "cell_type": "markdown",
   "metadata": {},
   "source": [
    "## Download current data"
   ]
  },
  {
   "cell_type": "markdown",
   "metadata": {},
   "source": [
    "Give your users an option to refresh the dataset - a \"refresh\" button will do. The button callback should\n",
    "* call the code that accesses the API and download some fresh raw data;\n",
    "* wrangle that data into a dataframe and update the corresponding (global) variable for plotting;\n",
    "* optionally: force a redraw of the graph and give the user some fredback.\n",
    "\n",
    "Once you get it to work, you may want to wrap your API call inside an exception handler, so that the user is informed, the \"canned\" data are not overwritten and nothing crashes if for any reason the server cannot be reached or data are not available.\n",
    "\n",
    "After you refresh the data, graphs will not update until the user interacts with a widget. You can trick ```iPywidgets``` into redrawing the graph by simulating interaction, as in the ```refresh_graph``` function we define in the Graph and Analysis section below.\n",
    "\n",
    "Clicking on the button below just generates some more random data and refreshes the graph. The button should read *Fetch Data*. If you see anything else, take a deep breath :)"
   ]
  },
  {
   "cell_type": "code",
   "execution_count": 84,
   "metadata": {},
   "outputs": [],
   "source": [
    "# Place your API access code in this function. Do not call this function directly; it will be called by \n",
    "# the button callback. \n",
    "def access_api():\n",
    "    \"\"\" Accesses the PHE API. Returns raw data in the same format as data loaded from the \"canned\" JSON file. \"\"\"\n",
    "    filters = [\n",
    "        'areaType=overview',\n",
    "    ]\n",
    "\n",
    "    structure = {\n",
    "        \"date\": \"date\",\n",
    "        \"PillarOneTesting\":\"cumPillarOneTestsByPublishDate\",\n",
    "        \"PillarTwoTesting\":\"cumPillarTwoTestsByPublishDate\",\n",
    "        \"PillarThreeTesting\":\"cumPillarThreeTestsByPublishDate\",\n",
    "        \"PillarFourTesting\":\"cumPillarFourTestsByPublishDate\",\n",
    "        \"Total\":\"cumTestsByPublishDate\"\n",
    "    }\n",
    "    \n",
    "    api = Cov19API(filters=filters, structure=structure)\n",
    "    jsondata=api.get_json()\n",
    "\n",
    "    #with open(\"testingseries.json\", \"wt\") as OUTF:\n",
    "        #json.dump(jsondata, OUTF)\n",
    "    \n",
    "    #with open(\"testingseries.json\", \"rt\") as INF:\n",
    "        #jsondata=json.load(INF)\n",
    "    \n",
    "    return jsondata "
   ]
  },
  {
   "cell_type": "code",
   "execution_count": 103,
   "metadata": {},
   "outputs": [],
   "source": [
    "# Printout from this function will be lost in Voila unless captured in an\n",
    "# output widget - therefore, we give feedback to the user by changing the \n",
    "# appearance of the button:\n",
    "def api_button_callback(button):\n",
    "    \"\"\" Button callback - it must take the button as its parameter (unused in this case).\n",
    "    Accesses API, wrangles data, updates global variable df used for plotting. \"\"\"\n",
    "    # Getting fresh data from the API. If you have time, include some error handling - via except - \n",
    "    # around this call:\n",
    "    \n",
    "    def refresh_graph():\n",
    "        \"\"\" We change the value of the widget in order to force a redraw of the graph;\n",
    "        this is useful when the data have been updated. This is a bit of a gimmick; it\n",
    "        needs to be customised for one of your widgets. \"\"\"\n",
    "        current=scale.value\n",
    "        if current==scale.options[0]:\n",
    "            other=scale.options[1]\n",
    "        else:\n",
    "            other=scale.options[0]\n",
    "        scale.value=other # forces the redraw\n",
    "        scale.value=current # now we can change it backdef refresh_graph():\n",
    "        \n",
    "    try: \n",
    "        apidata=access_api()\n",
    "        # Wrangling the data and overwriting the dataframe for plotting:\n",
    "        global df\n",
    "        df=wrangle_data(apidata)\n",
    "        # The graph won't refresh until the user interacts with the widget.\n",
    "        # this function simulates the interaction, see Graph and Analysis below.\n",
    "        # you can omit this step in the first instance\n",
    "        refresh_graph()\n",
    "        # After all is done, you can switch the icon on the button to a \"check\" sign\n",
    "        # and optionally disable the button - it won't be needed again. You can use icons\n",
    "        # \"unlink\" or \"times\" and change the button text to \"Unavailable\" in case the \n",
    "        # API call fails:\n",
    "        apibutton.icon=\"check\"\n",
    "        apibutton.disabled=True\n",
    "        \n",
    "        # Show time stamp:\n",
    "        today=date.today()\n",
    "        d1=today.strftime(\"%B %d, %Y\")\n",
    "        now=datetime.now()\n",
    "        d2=now.strftime(\"%H:%M:%S\")\n",
    "        print(f'Data last refreshed at {d2} on {d1}.', end='\\r', flush=True)\n",
    "    \n",
    "    except:\n",
    "        # apibutton.description=\"Error\"\n",
    "        # apibutton.button_style='danger'\n",
    "        # apibutton.icon='exclamation-triangle'\n",
    "        print('Refresh failed. Try again later.', end='\\r', flush=True)\n",
    "    "
   ]
  },
  {
   "cell_type": "markdown",
   "metadata": {},
   "source": [
    "## Graphs and Analysis"
   ]
  },
  {
   "cell_type": "markdown",
   "metadata": {},
   "source": [
    "Include at least one graph with interactive controls, as well as some instructions for the user and/or comments on what the graph represents and how it should be explored (this example shows two random walks)"
   ]
  },
  {
   "cell_type": "code",
   "execution_count": 106,
   "metadata": {},
   "outputs": [
    {
     "data": {
      "application/vnd.jupyter.widget-view+json": {
       "model_id": "71f344a214fd4a4dbbbcaf55a1546e38",
       "version_major": 2,
       "version_minor": 0
      },
      "text/plain": [
       "HBox(children=(Output(), VBox(children=(SelectMultiple(description='Tests:', index=(0, 1, 2, 3), options=('Pil…"
      ]
     },
     "metadata": {},
     "output_type": "display_data"
    },
    {
     "data": {
      "application/vnd.jupyter.widget-view+json": {
       "model_id": "0150da6bee314660924735120ec719dd",
       "version_major": 2,
       "version_minor": 0
      },
      "text/plain": [
       "Button(button_style='success', description='Refresh', icon='refresh', style=ButtonStyle(), tooltip='Click to d…"
      ]
     },
     "metadata": {},
     "output_type": "display_data"
    },
    {
     "name": "stdout",
     "output_type": "stream",
     "text": [
      "Data last refreshed at 18:39:29 on November 25, 2020.\r"
     ]
    }
   ],
   "source": [
    "series=wdg.SelectMultiple(\n",
    "    options=['PillarOneTesting', 'PillarTwoTesting', 'PillarThreeTesting', 'PillarFourTesting', 'Total'],\n",
    "    value=['PillarOneTesting', 'PillarTwoTesting', 'PillarThreeTesting', 'PillarFourTesting'],\n",
    "    rows=5,\n",
    "    description='Tests:',\n",
    "    disabled=False\n",
    ")\n",
    "\n",
    "scale=wdg.RadioButtons(\n",
    "    options=['linear', 'log'],\n",
    "    description='Scale:',\n",
    "    disabled=False\n",
    ")\n",
    "\n",
    "def series_graph(gcols, gscale):\n",
    "    if gscale=='linear':\n",
    "        logscale=False\n",
    "    else:\n",
    "        logscale=True\n",
    "    ncols=len(gcols)\n",
    "    if ncols>0: # Error check\n",
    "        testingseriesdf[list(gcols)].plot(logy=logscale, title='Number of COVID-19 tests processed in the UK')\n",
    "    else:\n",
    "        print(\"Click to select data for graph\")\n",
    "        print(\"(CTRL-Click to select more than one category)\")\n",
    "        \n",
    "apibutton=wdg.Button(\n",
    "    description=\"Refresh\",\n",
    "    disabled=False,\n",
    "    button_style='success', # 'success', 'info', 'warning', 'danger' or ''\n",
    "    tooltip=\"Click to download current Public Health England data!\",\n",
    "    # FontAwesome names without the `fa-` prefix - try \"download\"\n",
    "    icon='refresh' # e.g. exclamation-triangle\n",
    ")\n",
    "\n",
    "# Remember to register your button callback function with the button:\n",
    "apibutton.on_click(api_button_callback) # The name of your function inside these brackets.\n",
    "        \n",
    "# Keep calling series_graph(gcols=value_of_series, gscale=value_of_scale); capture output in variable graph   \n",
    "graph=wdg.interactive_output(series_graph, {'gcols': series, 'gscale': scale})\n",
    "ctrls=wdg.VBox([series, scale]) # stacked\n",
    "form=wdg.HBox([graph, ctrls]) # side-by-side\n",
    "\n",
    "display(form, apibutton)"
   ]
  },
  {
   "cell_type": "markdown",
   "metadata": {},
   "source": [
    "## Description of different Testing methods:\n"
   ]
  },
  {
   "cell_type": "code",
   "execution_count": 60,
   "metadata": {},
   "outputs": [],
   "source": []
  },
  {
   "cell_type": "markdown",
   "metadata": {},
   "source": [
    "## Deploying the dashboard\n",
    "\n",
    "Once your code is ready and you are satisfied with the appearance of the graphs, replace all the text boxes above with the explanations you would like a dashboard user to see. The next step is deploying the dashboard online - there are several [options](https://voila.readthedocs.io/en/stable/deploy.html) for this, we suggest deploying as a [Binder](https://mybinder.org/). This is basically the same technique that has been used to package this tutorial and to deploy this template dashboard. The instructions may seem a bit involved, but the actual steps are surprisingly easy - we will be going through them together during a live session. You will need an account on [GitHub](https://github.com/) for this - if you don't have one already, now it's the time to create it. "
   ]
  },
  {
   "cell_type": "markdown",
   "metadata": {},
   "source": [
    "**Author and Copyright Notice** Remember if you deploy this dashboard as a Binder it will be publicly accessible. Take credit for your work! Also acknowledge the data source: *Based on UK Government [data](https://coronavirus.data.gov.uk/) published by [Public Health England](https://www.gov.uk/government/organisations/public-health-england).*"
   ]
  }
 ],
 "metadata": {
  "kernelspec": {
   "display_name": "Python 3",
   "language": "python",
   "name": "python3"
  },
  "language_info": {
   "codemirror_mode": {
    "name": "ipython",
    "version": 3
   },
   "file_extension": ".py",
   "mimetype": "text/x-python",
   "name": "python",
   "nbconvert_exporter": "python",
   "pygments_lexer": "ipython3",
   "version": "3.8.3"
  }
 },
 "nbformat": 4,
 "nbformat_minor": 4
}
